{
  "nbformat": 4,
  "nbformat_minor": 0,
  "metadata": {
    "colab": {
      "provenance": [],
      "include_colab_link": true
    },
    "kernelspec": {
      "name": "python3",
      "display_name": "Python 3"
    },
    "language_info": {
      "name": "python"
    }
  },
  "cells": [
    {
      "cell_type": "markdown",
      "metadata": {
        "id": "view-in-github",
        "colab_type": "text"
      },
      "source": [
        "<a href=\"https://colab.research.google.com/github/anderson02aa/Pos_de_IA_na_UFV-2024/blob/main/ELT574_11850_3_Atividade_4.ipynb\" target=\"_parent\"><img src=\"https://colab.research.google.com/assets/colab-badge.svg\" alt=\"Open In Colab\"/></a>"
      ]
    },
    {
      "cell_type": "markdown",
      "metadata": {
        "id": "tJvFIzPHudo0"
      },
      "source": [
        "# **ELT574 - Atividade 4 da disciplina Aprendizado de Máquinas**\n",
        "\n",
        "##<center>Semana 4 - Lógica Fuzzy</center>\n",
        "\n",
        "**<p>&nbsp;&nbsp;&nbsp;Curso de Especialização em Inteligência Artificial e Computacional da UFV em 2024.</p>**\n",
        "<br>\n",
        "<p>&nbsp;&nbsp;&nbsp;Professor: Rodolpho Neves</p>\n",
        "\n"
      ]
    },
    {
      "cell_type": "markdown",
      "metadata": {
        "id": "aYyRc1ywwcq1"
      },
      "source": [
        "<p>&nbsp;&nbsp;&nbsp;Preparação do ambiente de programação e importação das principais bibliotecas.</p>"
      ]
    },
    {
      "cell_type": "markdown",
      "source": [
        "##Enunciado:\n"
      ],
      "metadata": {
        "id": "XUUYdeH6d4Wu"
      }
    },
    {
      "cell_type": "markdown",
      "source": [
        "<table><tr><td>&nbsp;&nbsp;&nbsp;<font size=4>\n",
        "Crie um Notebook no Google Colab com o nome (ELT574 Matrícula Atividade 4), modificando o campo Matrícula pela sua <br>matrícula do Sapiens (Exemplo: ELT574 12700-0 Atividade 4). Conforme o roteiro abaixo, responda os questionamento e <br>\n",
        "implemente rotinas para realizar os cálculos necessários.<br><br>\n",
        "&nbsp;&nbsp;&nbsp;No material disponibilizado na disciplina, apostila e aulas gravadas, foi construído um sistema de inferência fuzzy Mamdani  <br>para sugerir a gorjeta para garçons em um restaurante. Utilizando este sistema, calcule a saída para as entradas:<br>\n",
        "<center>Comida = 3 e Serviço = 8</center>\n",
        "<center>Comida = 8 e Serviço = 6</center><br>\n",
        "&nbsp;&nbsp;&nbsp;É possível alcançar o valor máximo de gorjeta?<br><br>\n",
        "&nbsp;&nbsp;&nbsp;Implemente o exemplo da gorjeta para o garçom utilizando o método de inferência Takagi-Sugeno-Kang com as<br>\n",
        "funções das regras propostas na atividade. Calcule a saída para ambas as entradas do item 1. É possível alcançar o <br>valor máximo de gorjeta neste tipo de inferência?<br><br>\n",
        "&nbsp;&nbsp;&nbsp;Todas as questões devem ser inseridas no notebook do Google Colab. O link para o notebook deve ser enviado como <br>resposta da tarefa.\n",
        "</font>\n",
        "<br>\n",
        "</td></tr></table>"
      ],
      "metadata": {
        "id": "5s_tx5zeeBLN"
      }
    },
    {
      "cell_type": "markdown",
      "source": [
        "<p>&nbsp;&nbsp;&nbsp;"
      ],
      "metadata": {
        "id": "KnbmPjkPd0YV"
      }
    },
    {
      "cell_type": "markdown",
      "source": [
        "# Parte 1 - Sistema de Lógica Fuzzy"
      ],
      "metadata": {
        "id": "uhXa30pCYJlV"
      }
    },
    {
      "cell_type": "code",
      "metadata": {
        "colab": {
          "base_uri": "https://localhost:8080/"
        },
        "id": "333Q6dFK8jax",
        "outputId": "5bfc272f-08b9-4d0f-acc5-a0b61e240ebc"
      },
      "source": [
        "#Importando as bibliotecas para análise do problema e configurando o notebook\n",
        "\n",
        "## OS para executar comandos de diretorio\n",
        "import os\n",
        "\n",
        "## Habilitar Google Drive no Colab\n",
        "# from google.colab import drive\n",
        "# drive.mount('/content/drive')\n",
        "\n",
        "## NumPy para manipular matrizes e vetores\n",
        "import numpy as np\n",
        "\n",
        "## Pandas para manipular os dataframes\n",
        "import pandas as pd\n",
        "\n",
        "## Plotar figuras bonitas\n",
        "%matplotlib inline\n",
        "import matplotlib as mpl\n",
        "import matplotlib.pyplot as plt\n",
        "mpl.rc('axes', labelsize=14)\n",
        "mpl.rc('xtick', labelsize=12)\n",
        "mpl.rc('ytick', labelsize=12)\n",
        "import seaborn as sns\n",
        "\n",
        "print('Setup 1 de 3 completo!')"
      ],
      "execution_count": 87,
      "outputs": [
        {
          "output_type": "stream",
          "name": "stdout",
          "text": [
            "Setup 1 de 3 completo!\n"
          ]
        }
      ]
    },
    {
      "cell_type": "code",
      "source": [
        "!pip install simpful\n",
        "import simpful as sf\n",
        "print('Setup 2 de 3 completo!')"
      ],
      "metadata": {
        "colab": {
          "base_uri": "https://localhost:8080/"
        },
        "id": "RKrtqJRjj2Wv",
        "outputId": "47b35aa5-2c87-4d58-e0d8-f76ee21b1533"
      },
      "execution_count": 88,
      "outputs": [
        {
          "output_type": "stream",
          "name": "stdout",
          "text": [
            "Requirement already satisfied: simpful in /usr/local/lib/python3.10/dist-packages (2.12.0)\n",
            "Requirement already satisfied: numpy>=1.12.0 in /usr/local/lib/python3.10/dist-packages (from simpful) (1.25.2)\n",
            "Requirement already satisfied: scipy>=1.0.0 in /usr/local/lib/python3.10/dist-packages (from simpful) (1.11.4)\n",
            "Setup 2 de 3 completo!\n"
          ]
        }
      ]
    },
    {
      "cell_type": "markdown",
      "source": [
        "<p>&nbsp;&nbsp;&nbsp;Simpful é uma biblioteca em Python para lógica fuzzy, desenvolvida para ser uma API simples e leve, o mais próximo possível da linguagem natural.</p>\n",
        "\n",
        "<center>https://simpful.readthedocs.io/en/latest/ </center>"
      ],
      "metadata": {
        "id": "oJp1vo7WiM8L"
      }
    },
    {
      "cell_type": "code",
      "source": [
        "from simpful import FuzzySet, FuzzyAggregator\n",
        "from numpy import prod, mean, max, min\n",
        "print('Setup 3 de 3 completo!')"
      ],
      "metadata": {
        "colab": {
          "base_uri": "https://localhost:8080/"
        },
        "id": "0CydmQg4kOCY",
        "outputId": "99570753-6a16-410b-ec43-26e4dad21477"
      },
      "execution_count": 89,
      "outputs": [
        {
          "output_type": "stream",
          "name": "stdout",
          "text": [
            "Setup 3 de 3 completo!\n"
          ]
        }
      ]
    },
    {
      "cell_type": "markdown",
      "source": [
        "### Parte 2 - Métodos de inferência: Mamdani"
      ],
      "metadata": {
        "id": "7sNP3duldoNc"
      }
    },
    {
      "cell_type": "markdown",
      "source": [
        "<p>&nbsp;&nbsp;&nbsp;&nbsp;Carregando dependências:</p>"
      ],
      "metadata": {
        "id": "gDEDkkA0dsBm"
      }
    },
    {
      "cell_type": "code",
      "source": [
        "from simpful import *\n",
        "\n",
        "# A simple fuzzy inference system for the tipping problem\n",
        "# Create a fuzzy system object\n",
        "FS = FuzzySystem()"
      ],
      "metadata": {
        "colab": {
          "base_uri": "https://localhost:8080/"
        },
        "id": "NRUNRm1lW0Fy",
        "outputId": "b855e288-e4ee-4237-8276-68c5885936e0"
      },
      "execution_count": 90,
      "outputs": [
        {
          "output_type": "stream",
          "name": "stdout",
          "text": [
            "  ____  __  _  _  ____  ____  _  _  __   \n",
            " / ___)(  )( \\/ )(  _ \\(  __)/ )( \\(  ) v2.12.0 \n",
            " \\___ \\ )( / \\/ \\ ) __/ ) _) ) \\/ (/ (_/\\ \n",
            " (____/(__)\\_)(_/(__)  (__)  \\____/\\____/\n",
            "\n",
            " https://github.com/aresio/simpful\n",
            "\n"
          ]
        }
      ]
    },
    {
      "cell_type": "markdown",
      "source": [
        "####1. Qualidade do serviço (*Service quality*)"
      ],
      "metadata": {
        "id": "khcDaXgMgnU-"
      }
    },
    {
      "cell_type": "markdown",
      "source": [
        "<p>&nbsp;&nbsp;&nbsp;&nbsp;Definindo as variáveis de entrada para qualidade do serviço:</p>"
      ],
      "metadata": {
        "id": "EVsm95-cYqqj"
      }
    },
    {
      "cell_type": "code",
      "source": [
        "S_1 = FuzzySet(function=Triangular_MF(a=0, b=0, c=5), term=\"poor\") # saida = [0% 100% 0%]\n",
        "S_2 = FuzzySet(function=Triangular_MF(a=0, b=5, c=10), term=\"good\")\n",
        "S_3 = FuzzySet(function=Triangular_MF(a=5, b=10, c=10), term=\"excellent\")\n",
        "FS.add_linguistic_variable(\"Service\", LinguisticVariable([S_1, S_2, S_3], concept=\"Service quality\", universe_of_discourse=[0,10]))\n",
        "\n",
        "sf.LinguisticVariable([S_1, S_2, S_3], universe_of_discourse=[0, 10]).plot()"
      ],
      "metadata": {
        "colab": {
          "base_uri": "https://localhost:8080/",
          "height": 434
        },
        "id": "lifQ4OXkVkEi",
        "outputId": "df3f0128-a819-45cf-9543-130efd258632"
      },
      "execution_count": 91,
      "outputs": [
        {
          "output_type": "display_data",
          "data": {
            "text/plain": [
              "<Figure size 640x480 with 1 Axes>"
            ],
            "image/png": "[encoded data removed]"
          },
          "metadata": {}
        }
      ]
    },
    {
      "cell_type": "markdown",
      "source": [
        "####2. Qualidade da comida (*Food quality*)"
      ],
      "metadata": {
        "id": "nurfMKjOgndf"
      }
    },
    {
      "cell_type": "markdown",
      "source": [
        "<p>&nbsp;&nbsp;&nbsp;&nbsp;Definindo as variáveis de entrada para qualidade da comida:</p>"
      ],
      "metadata": {
        "id": "KFHnv2_gYyh7"
      }
    },
    {
      "cell_type": "code",
      "source": [
        "F_1 = FuzzySet(function=Triangular_MF(a=0, b=0, c=10), term=\"rancid\")\n",
        "F_2 = FuzzySet(function=Triangular_MF(a=0, b=10, c=10), term=\"delicious\")\n",
        "FS.add_linguistic_variable(\"Food\", LinguisticVariable([F_1, F_2], concept=\"Food quality\", universe_of_discourse=[0,10]))\n",
        "\n",
        "sf.LinguisticVariable([F_1,F_2], universe_of_discourse=[0, 10]).plot()"
      ],
      "metadata": {
        "colab": {
          "base_uri": "https://localhost:8080/",
          "height": 434
        },
        "id": "LEolGNpOXEV1",
        "outputId": "81a55882-4407-40b6-c8ed-5a4e32a4a68c"
      },
      "execution_count": 92,
      "outputs": [
        {
          "output_type": "display_data",
          "data": {
            "text/plain": [
              "<Figure size 640x480 with 1 Axes>"
            ],
            "image/png": "[encoded data removed]"
          },
          "metadata": {}
        }
      ]
    },
    {
      "cell_type": "markdown",
      "source": [
        "####3. Definindo a variável de saída (Tip)"
      ],
      "metadata": {
        "id": "5U4Y6vH3gng-"
      }
    },
    {
      "cell_type": "markdown",
      "source": [
        "<p>&nbsp;&nbsp;&nbsp;&nbsp;Definindo as variáveis de saída para Gorjeta (Tip):</p>"
      ],
      "metadata": {
        "id": "6mkCea9aY400"
      }
    },
    {
      "cell_type": "code",
      "source": [
        "T_1 = FuzzySet(function=Triangular_MF(a=0, b=0, c=10), term=\"small\")\n",
        "T_2 = FuzzySet(function=Triangular_MF(a=0, b=10, c=20), term=\"average\")\n",
        "T_3 = FuzzySet(function=Trapezoidal_MF(a=10, b=20, c=25, d=25), term=\"generous\") # [0%, 100%, 100%, 0%]\n",
        "FS.add_linguistic_variable(\"Tip\", LinguisticVariable([T_1, T_2, T_3], universe_of_discourse=[0,25]))\n",
        "\n",
        "sf.LinguisticVariable([T_1, T_2, T_3], universe_of_discourse=[0, 25]).plot()"
      ],
      "metadata": {
        "colab": {
          "base_uri": "https://localhost:8080/",
          "height": 434
        },
        "id": "IqGgYQzgXtY9",
        "outputId": "25484f17-3553-4962-9c28-953cb869e838"
      },
      "execution_count": 93,
      "outputs": [
        {
          "output_type": "display_data",
          "data": {
            "text/plain": [
              "<Figure size 640x480 with 1 Axes>"
            ],
            "image/png": "[encoded data removed]"
          },
          "metadata": {}
        }
      ]
    },
    {
      "cell_type": "markdown",
      "source": [
        "####4. Regras"
      ],
      "metadata": {
        "id": "giVNV9IngnpR"
      }
    },
    {
      "cell_type": "code",
      "source": [
        "R1 = \"IF (Service IS poor) AND (Food IS rancid) THEN (Tip IS small)\"\n",
        "R2 = \"IF (Service IS good) THEN (Tip IS average)\"\n",
        "R3 = \"IF (Service IS excellent) OR (Food IS delicious) THEN (Tip IS generous)\"\n",
        "FS.add_rules([R1, R2, R3])"
      ],
      "metadata": {
        "id": "gBi3vZIulhaw"
      },
      "execution_count": 94,
      "outputs": []
    },
    {
      "cell_type": "markdown",
      "source": [
        "####5. Repassando valores (Serviço=4 e Comida=8)"
      ],
      "metadata": {
        "id": "tOsiD5B4YdOD"
      }
    },
    {
      "cell_type": "markdown",
      "source": [
        "Repassando os valores de entrada:\n",
        "Serviço = 3 e Comida = 8"
      ],
      "metadata": {
        "id": "FW0GjwijqJ7S"
      }
    },
    {
      "cell_type": "code",
      "source": [
        "servico = 3\n",
        "comida = 8\n",
        "FS.set_variable(\"Service\", servico)\n",
        "FS.set_variable(\"Food\", comida)"
      ],
      "metadata": {
        "id": "IIEKtkNxqLtm"
      },
      "execution_count": 95,
      "outputs": []
    },
    {
      "cell_type": "markdown",
      "source": [
        "Calculando o valor de inferência"
      ],
      "metadata": {
        "id": "bmvwL5TPqOJT"
      }
    },
    {
      "cell_type": "code",
      "source": [
        "print(FS.Mamdani_inference([\"Tip\"])) # ou FS.Mamdani_inference([\"Tip\"])"
      ],
      "metadata": {
        "colab": {
          "base_uri": "https://localhost:8080/"
        },
        "id": "Uc0tlJu6qN17",
        "outputId": "f425dd9d-a9e2-40df-c250-5aeb4c91f990"
      },
      "execution_count": 96,
      "outputs": [
        {
          "output_type": "stream",
          "name": "stdout",
          "text": [
            "{'Tip': 14.507972532054279}\n"
          ]
        }
      ]
    },
    {
      "cell_type": "markdown",
      "source": [
        "####5. Repassando valores (Serviço=8 e Comida=6)"
      ],
      "metadata": {
        "id": "DLKnnqHCYsYL"
      }
    },
    {
      "cell_type": "markdown",
      "source": [
        "Repassando os valores de entrada:\n",
        "Serviço = 8 e Comida = 6"
      ],
      "metadata": {
        "id": "-DdVztKyYy7i"
      }
    },
    {
      "cell_type": "code",
      "source": [
        "servico = 8\n",
        "comida = 6\n",
        "FS.set_variable(\"Service\", servico)\n",
        "FS.set_variable(\"Food\", comida)\n",
        "print(FS.Mamdani_inference([\"Tip\"])) # ou FS.Mamdani_inference([\"Tip\"])"
      ],
      "metadata": {
        "colab": {
          "base_uri": "https://localhost:8080/"
        },
        "id": "G-wmPm27Nlx5",
        "outputId": "de147283-9a6e-4ae5-b2d8-04bd4039866f"
      },
      "execution_count": 97,
      "outputs": [
        {
          "output_type": "stream",
          "name": "stdout",
          "text": [
            "{'Tip': 14.640880699744438}\n"
          ]
        }
      ]
    },
    {
      "cell_type": "markdown",
      "source": [
        "####5. É possível alcaçar o máximo da gosrjeta?\n"
      ],
      "metadata": {
        "id": "tzxSyCKvZYdj"
      }
    },
    {
      "cell_type": "markdown",
      "source": [
        "Repassando os valores de entrada:\n",
        "Serviço = 10 e Comida = 10"
      ],
      "metadata": {
        "id": "ZcxM8HMNZhdK"
      }
    },
    {
      "cell_type": "code",
      "source": [
        "servico = 10\n",
        "comida = 10\n",
        "FS.set_variable(\"Service\", servico)\n",
        "FS.set_variable(\"Food\", comida)\n",
        "print(FS.Mamdani_inference([\"Tip\"]))"
      ],
      "metadata": {
        "colab": {
          "base_uri": "https://localhost:8080/"
        },
        "id": "PyUnbZRsZhm7",
        "outputId": "b9293260-4ece-496f-bc37-ae4a4525702e"
      },
      "execution_count": 98,
      "outputs": [
        {
          "output_type": "stream",
          "name": "stdout",
          "text": [
            "{'Tip': 19.59010549203194}\n"
          ]
        }
      ]
    },
    {
      "cell_type": "markdown",
      "source": [
        "Agora imprimindo todos os resultados possíveis, considerando todos os valores inteiros dentro do range (1 até 10) possível para Comida e Serviço:"
      ],
      "metadata": {
        "id": "uAni42ykcF08"
      }
    },
    {
      "cell_type": "code",
      "source": [
        "for xcomida in range(0,12):\n",
        "    for xservico in range(0,12):\n",
        "      #flag=0\n",
        "      FS.set_variable(\"Service\", xservico)\n",
        "      FS.set_variable(\"Food\", xcomida)\n",
        "      #if  (FS.Mamdani_inference([\"Tip\"]) )>24:\n",
        "      print(FS.Mamdani_inference([\"Tip\"])) # ou FS.Mamdani_inference([\"Tip\"])\n",
        "      #flag=1\n",
        "\n",
        "\n"
      ],
      "metadata": {
        "colab": {
          "base_uri": "https://localhost:8080/"
        },
        "id": "VgYJ8cK9afXD",
        "outputId": "405f3695-7e90-4e71-9858-ba7ed7b19ae2"
      },
      "execution_count": 105,
      "outputs": [
        {
          "output_type": "stream",
          "name": "stdout",
          "text": [
            "{'Tip': 3.325001663332497}\n",
            "{'Tip': 6.539383241755193}\n",
            "{'Tip': 8.236354983739359}\n",
            "{'Tip': 9.24134625993856}\n",
            "{'Tip': 9.80702026991977}\n",
            "{'Tip': 10.000005015035075}\n",
            "{'Tip': 11.333421094665548}\n",
            "{'Tip': 12.856625516472338}\n",
            "{'Tip': 14.640880699744438}\n",
            "{'Tip': 16.8100667127398}\n",
            "{'Tip': 19.59010549203194}\n",
            "{'Tip': 19.59010549203194}\n",
            "{'Tip': 6.614342634585854}\n",
            "{'Tip': 7.715782323761559}\n",
            "{'Tip': 9.118252386520535}\n",
            "{'Tip': 9.97629269704127}\n",
            "{'Tip': 10.469436900524343}\n",
            "{'Tip': 10.639940211337445}\n",
            "{'Tip': 11.333421094665548}\n",
            "{'Tip': 12.856625516472338}\n",
            "{'Tip': 14.640880699744438}\n",
            "{'Tip': 16.8100667127398}\n",
            "{'Tip': 19.59010549203194}\n",
            "{'Tip': 19.59010549203194}\n",
            "{'Tip': 8.796374197898604}\n",
            "{'Tip': 8.856461663940156}\n",
            "{'Tip': 9.992465152348975}\n",
            "{'Tip': 10.713025598407947}\n",
            "{'Tip': 11.136987164711861}\n",
            "{'Tip': 11.285809740653697}\n",
            "{'Tip': 11.333421094665548}\n",
            "{'Tip': 12.856625516472338}\n",
            "{'Tip': 14.640880699744438}\n",
            "{'Tip': 16.8100667127398}\n",
            "{'Tip': 19.59010549203194}\n",
            "{'Tip': 19.59010549203194}\n",
            "{'Tip': 10.46273854625495}\n",
            "{'Tip': 10.442201192798674}\n",
            "{'Tip': 10.824819440259734}\n",
            "{'Tip': 11.422463796537132}\n",
            "{'Tip': 11.783277065819385}\n",
            "{'Tip': 11.912068923368222}\n",
            "{'Tip': 11.97826605121496}\n",
            "{'Tip': 12.856625516472338}\n",
            "{'Tip': 14.640880699744438}\n",
            "{'Tip': 16.8100667127398}\n",
            "{'Tip': 19.59010549203194}\n",
            "{'Tip': 19.59010549203194}\n",
            "{'Tip': 11.862765231778708}\n",
            "{'Tip': 11.78683125118836}\n",
            "{'Tip': 11.59212645155074}\n",
            "{'Tip': 12.08368179626335}\n",
            "{'Tip': 12.388796726914716}\n",
            "{'Tip': 12.499687662058555}\n",
            "{'Tip': 12.58029002007306}\n",
            "{'Tip': 12.856625516472338}\n",
            "{'Tip': 14.640880699744438}\n",
            "{'Tip': 16.8100667127398}\n",
            "{'Tip': 19.59010549203194}\n",
            "{'Tip': 19.59010549203194}\n",
            "{'Tip': 13.124216911432335}\n",
            "{'Tip': 13.004199456247793}\n",
            "{'Tip': 12.693755921021543}\n",
            "{'Tip': 12.683160669975877}\n",
            "{'Tip': 12.940452156198162}\n",
            "{'Tip': 13.035754957361084}\n",
            "{'Tip': 13.126671108092046}\n",
            "{'Tip': 13.435318548367192}\n",
            "{'Tip': 14.640880699744438}\n",
            "{'Tip': 16.8100667127398}\n",
            "{'Tip': 19.59010549203194}\n",
            "{'Tip': 19.59010549203194}\n",
            "{'Tip': 14.324529789756651}\n",
            "{'Tip': 14.164547740986977}\n",
            "{'Tip': 13.74852769105565}\n",
            "{'Tip': 13.200662220626452}\n",
            "{'Tip': 13.419776381588179}\n",
            "{'Tip': 13.502478742700383}\n",
            "{'Tip': 13.600398576306844}\n",
            "{'Tip': 13.930016529337516}\n",
            "{'Tip': 14.640880699744438}\n",
            "{'Tip': 16.8100667127398}\n",
            "{'Tip': 19.59010549203194}\n",
            "{'Tip': 19.59010549203194}\n",
            "{'Tip': 15.51963350526809}\n",
            "{'Tip': 15.319148022960531}\n",
            "{'Tip': 14.561610158707307}\n",
            "{'Tip': 13.925562780603531}\n",
            "{'Tip': 13.826059394140628}\n",
            "{'Tip': 13.899079789684494}\n",
            "{'Tip': 14.001966116442345}\n",
            "{'Tip': 14.3460046076362}\n",
            "{'Tip': 15.07223124708891}\n",
            "{'Tip': 16.8100667127398}\n",
            "{'Tip': 19.59010549203194}\n",
            "{'Tip': 19.59010549203194}\n",
            "{'Tip': 16.75854449144777}\n",
            "{'Tip': 16.51305893947251}\n",
            "{'Tip': 15.204619588980137}\n",
            "{'Tip': 14.507972532054279}\n",
            "{'Tip': 14.17223614042091}\n",
            "{'Tip': 14.237701368785107}\n",
            "{'Tip': 14.344242940525978}\n",
            "{'Tip': 14.698633043080909}\n",
            "{'Tip': 15.43457195814742}\n",
            "{'Tip': 16.8100667127398}\n",
            "{'Tip': 19.59010549203194}\n",
            "{'Tip': 19.59010549203194}\n",
            "{'Tip': 18.093444806951897}\n",
            "{'Tip': 17.016115837322317}\n",
            "{'Tip': 15.681634417035507}\n",
            "{'Tip': 14.948782738022711}\n",
            "{'Tip': 14.59130949119979}\n",
            "{'Tip': 14.526141145857281}\n",
            "{'Tip': 14.63545970500779}\n",
            "{'Tip': 14.997574602171472}\n",
            "{'Tip': 15.740103302862309}\n",
            "{'Tip': 17.09075511667248}\n",
            "{'Tip': 19.59010549203194}\n",
            "{'Tip': 19.59010549203194}\n",
            "{'Tip': 19.59010549203194}\n",
            "{'Tip': 17.327451737511364}\n",
            "{'Tip': 15.99615096522383}\n",
            "{'Tip': 15.248772641236494}\n",
            "{'Tip': 14.880707663508025}\n",
            "{'Tip': 14.769228533353846}\n",
            "{'Tip': 14.880707663508025}\n",
            "{'Tip': 15.248772641236494}\n",
            "{'Tip': 15.99615096522383}\n",
            "{'Tip': 17.327451737511364}\n",
            "{'Tip': 19.59010549203194}\n",
            "{'Tip': 19.59010549203194}\n",
            "{'Tip': 19.59010549203194}\n",
            "{'Tip': 17.327451737511364}\n",
            "{'Tip': 15.99615096522383}\n",
            "{'Tip': 15.248772641236494}\n",
            "{'Tip': 14.880707663508025}\n",
            "{'Tip': 14.769228533353846}\n",
            "{'Tip': 14.880707663508025}\n",
            "{'Tip': 15.248772641236494}\n",
            "{'Tip': 15.99615096522383}\n",
            "{'Tip': 17.327451737511364}\n",
            "{'Tip': 19.59010549203194}\n",
            "{'Tip': 19.59010549203194}\n"
          ]
        }
      ]
    },
    {
      "cell_type": "markdown",
      "source": [],
      "metadata": {
        "id": "lMUbDgWAygIr"
      }
    },
    {
      "cell_type": "markdown",
      "source": [
        "#=============== RESPOSTAS da 1o. parte: ==============="
      ],
      "metadata": {
        "id": "7tLdeahtxUPI"
      }
    },
    {
      "cell_type": "markdown",
      "source": [
        "<h1><b>* Resposta do item 1 da primeira parte:</b></h1>\n",
        "<h1>&nbsp;&nbsp;&nbsp;Para Serviço = 3 e Comida = 8 foi obtido: {'Tip': 14.507972532054279}</h1>"
      ],
      "metadata": {
        "id": "dMBXI58sw9o5"
      }
    },
    {
      "cell_type": "markdown",
      "source": [
        "<h1><b>* Resposta do item 2 da primeira parte:</b></h1>\n",
        "<h1>&nbsp;&nbsp;&nbsp;Para Serviço = 8 e Comida = 6 foi obtido:  {'Tip': 14.640880699744438}</h1>"
      ],
      "metadata": {
        "id": "cGjhh_HRxJDk"
      }
    },
    {
      "cell_type": "markdown",
      "source": [
        "<h1><b>* Resposta do item 3 da primeira parte:</b></h1>\n",
        "<h1>&nbsp;&nbsp;&nbsp;Considerando o valor máximo para comida e serviço (comida = 10 e serviço = 10) não é possível chegar ao máximo de gorjeta (gorjeta=25). Apenas foi possível chegar ao valor 19.59.</h1>\n",
        "<h1>&nbsp;&nbsp;&nbsp;Realizando laços \"for next\" variando os valores de entrada (comida e serviço), obteve-se a mesma conclusão, ou seja, não foi possível chegar ao valor máximo da gorjeta (gorjeta=25).</h1>\n",
        "<h1>&nbsp;&nbsp;&nbsp;Inclusive, o laço \"for next\" chegou até 12 para serviço e comida, mesmo assim não foi possível chegar ao máximo de gorjeta (gorjeta=25).  Apenas foi possível chegar ao valor 19.59.</h1>"
      ],
      "metadata": {
        "id": "rZdVsXnpaJEM"
      }
    },
    {
      "cell_type": "markdown",
      "source": [
        "=============================================="
      ],
      "metadata": {
        "id": "5qWLHiGrgjAf"
      }
    },
    {
      "cell_type": "markdown",
      "source": [
        "#Parte 2 - Métodos de inferência: Takagi-Sugeno-Kang"
      ],
      "metadata": {
        "id": "wcH9k1HqlQHS"
      }
    },
    {
      "cell_type": "markdown",
      "source": [
        "#### Métodos de inferência: Takagi-Sugeno-Kang"
      ],
      "metadata": {
        "id": "idp2FlxJlUmw"
      }
    },
    {
      "cell_type": "code",
      "source": [
        "from simpful import *\n",
        "# A simple fuzzy inference system for the tipping problem\n",
        "# Create a fuzzy system object\n",
        "FS_TS = FuzzySystem()\n",
        "\n",
        "# Define fuzzy sets and linguistic variables\n",
        "S_1 = FuzzySet(points=[[0., 1.],  [5., 0.]], term=\"poor\")\n",
        "S_2 = FuzzySet(points=[[0., 0.], [5., 1.], [10., 0.]], term=\"good\")\n",
        "S_3 = FuzzySet(points=[[5., 0.],  [10., 1.]], term=\"excellent\")\n",
        "FS_TS.add_linguistic_variable(\"Service\", LinguisticVariable([S_1, S_2, S_3], concept=\"Service quality\"))\n",
        "\n",
        "F_1 = FuzzySet(points=[[0., 1.],  [10., 0.]], term=\"rancid\")\n",
        "F_2 = FuzzySet(points=[[0., 0.],  [10., 1.]], term=\"delicious\")\n",
        "FS_TS.add_linguistic_variable(\"Food\", LinguisticVariable([F_1, F_2], concept=\"Food quality\"))\n",
        "\n",
        "# Define output crisp values\n",
        "FS_TS.set_crisp_output_value(\"small\", 5)\n",
        "FS_TS.set_crisp_output_value(\"average\", 15)\n",
        "\n",
        "# Define function for generous tip (food score + service score + 5%)\n",
        "FS_TS.set_output_function(\"generous\", \"1*Food+1*Service+5\")\n",
        "\n",
        "# Define fuzzy rules\n",
        "R1 = \"IF (Service IS poor) AND (Food IS rancid) THEN (Tip IS small)\"\n",
        "R2 = \"IF (Service IS good) THEN (Tip IS average)\"\n",
        "R3 = \"IF (Service IS excellent) OR (Food IS delicious) THEN (Tip IS generous)\"\n",
        "FS_TS.add_rules([R1, R2, R3])"
      ],
      "metadata": {
        "colab": {
          "base_uri": "https://localhost:8080/"
        },
        "id": "enbSIfn7lcyR",
        "outputId": "366364fe-b399-44a0-9e2f-0ab821c22250"
      },
      "execution_count": 100,
      "outputs": [
        {
          "output_type": "stream",
          "name": "stdout",
          "text": [
            "  ____  __  _  _  ____  ____  _  _  __   \n",
            " / ___)(  )( \\/ )(  _ \\(  __)/ )( \\(  ) v2.12.0 \n",
            " \\___ \\ )( / \\/ \\ ) __/ ) _) ) \\/ (/ (_/\\ \n",
            " (____/(__)\\_)(_/(__)  (__)  \\____/\\____/\n",
            "\n",
            " https://github.com/aresio/simpful\n",
            "\n",
            " * Detected Sugeno model type\n"
          ]
        }
      ]
    },
    {
      "cell_type": "markdown",
      "source": [
        "#Testando Takagi-Sugeno-Kang com  Serviço 3 e Comida = 8"
      ],
      "metadata": {
        "id": "nf9JTexd2GQy"
      }
    },
    {
      "cell_type": "code",
      "source": [
        "# Set antecedents values\n",
        "FS_TS.set_variable(\"Service\", 3)\n",
        "FS_TS.set_variable(\"Food\", 8)\n",
        "\n",
        "# Perform Sugeno inference and print output\n",
        "print(FS_TS.Sugeno_inference([\"Tip\"]))"
      ],
      "metadata": {
        "colab": {
          "base_uri": "https://localhost:8080/"
        },
        "id": "oRb2LXnYwddL",
        "outputId": "ef77c966-b17f-43b0-dcd6-dcd84894949b"
      },
      "execution_count": 101,
      "outputs": [
        {
          "output_type": "stream",
          "name": "stdout",
          "text": [
            "{'Tip': 14.250000000000002}\n"
          ]
        }
      ]
    },
    {
      "cell_type": "markdown",
      "source": [
        "#Testando Takagi-Sugeno-Kang com  Serviço 8 e Comida = 6"
      ],
      "metadata": {
        "id": "VJNMzVwM2gYb"
      }
    },
    {
      "cell_type": "code",
      "source": [
        "# Set antecedents values\n",
        "FS_TS.set_variable(\"Service\", 8)\n",
        "FS_TS.set_variable(\"Food\", 6)\n",
        "\n",
        "# Perform Sugeno inference and print output\n",
        "print(FS_TS.Sugeno_inference([\"Tip\"]))"
      ],
      "metadata": {
        "colab": {
          "base_uri": "https://localhost:8080/"
        },
        "id": "sBkp2prsyyH6",
        "outputId": "900a44dd-b1b7-4602-f0f4-ec4d19ca04f0"
      },
      "execution_count": 102,
      "outputs": [
        {
          "output_type": "stream",
          "name": "stdout",
          "text": [
            "{'Tip': 17.4}\n"
          ]
        }
      ]
    },
    {
      "cell_type": "markdown",
      "source": [
        "#Testando Takagi-Sugeno-Kang com  Serviço 9.99 e Comida = 9.99"
      ],
      "metadata": {
        "id": "EU_NIrwb2lPr"
      }
    },
    {
      "cell_type": "code",
      "source": [
        "# Set antecedents values\n",
        "FS_TS.set_variable(\"Service\", 9.99)\n",
        "FS_TS.set_variable(\"Food\", 9.99)\n",
        "\n",
        "# Perform Sugeno inference and print output\n",
        "print(FS_TS.Sugeno_inference([\"Tip\"]))"
      ],
      "metadata": {
        "colab": {
          "base_uri": "https://localhost:8080/"
        },
        "id": "f-SIDeVczCzC",
        "outputId": "8511faf7-7e69-443d-a6a5-a4256f0fbb51"
      },
      "execution_count": 103,
      "outputs": [
        {
          "output_type": "stream",
          "name": "stdout",
          "text": [
            "{'Tip': 24.960059940059946}\n"
          ]
        }
      ]
    },
    {
      "cell_type": "markdown",
      "source": [
        "#Testando Takagi-Sugeno-Kang com  Serviço 10 e Comida = 10"
      ],
      "metadata": {
        "id": "sG8uBmW52pCj"
      }
    },
    {
      "cell_type": "code",
      "source": [
        "# Set antecedents values\n",
        "FS_TS.set_variable(\"Service\", 10)\n",
        "FS_TS.set_variable(\"Food\", 10)\n",
        "\n",
        "# Perform Sugeno inference and print output\n",
        "print(FS_TS.Sugeno_inference([\"Tip\"]))"
      ],
      "metadata": {
        "colab": {
          "base_uri": "https://localhost:8080/"
        },
        "id": "YvnFahLHy4Cy",
        "outputId": "0110038d-7fcb-45a3-d71b-b77da4365e7c"
      },
      "execution_count": 104,
      "outputs": [
        {
          "output_type": "stream",
          "name": "stdout",
          "text": [
            "{'Tip': 25.0}\n"
          ]
        }
      ]
    },
    {
      "cell_type": "markdown",
      "source": [
        "#=============== RESPOSTAS da 2o. parte: ==============="
      ],
      "metadata": {
        "id": "bLrXdIKv2xnr"
      }
    },
    {
      "cell_type": "markdown",
      "source": [
        "<h1><b>* Resposta do item 1 da segunda parte:</b></h1>\n",
        "<h1>&nbsp;&nbsp;&nbsp;Para Serviço = 3 e Comida = 8 foi obtido: {'Tip': 14.250000000000002}</h1>"
      ],
      "metadata": {
        "id": "njkiFiXX2zVr"
      }
    },
    {
      "cell_type": "markdown",
      "source": [
        "<h1><b>* Resposta do item 2 da segunda parte:</b></h1>\n",
        "<h1>&nbsp;&nbsp;&nbsp;Para Serviço = 8 e Comida = 6 foi obtido: {'Tip': 17.4}</h1>"
      ],
      "metadata": {
        "id": "FMHTW5U33GeL"
      }
    },
    {
      "cell_type": "markdown",
      "source": [
        "<h1><b>* Resposta do item 2 da segunda parte:</b></h1>\n",
        "<h1>&nbsp;&nbsp;&nbsp;Para Serviço = 10 e Comida = 10 foi obtido: {'Tip': 25.0}</h1>"
      ],
      "metadata": {
        "id": "30zCE_w73S-L"
      }
    },
    {
      "cell_type": "markdown",
      "source": [
        "<h1><b>* Resposta do item 3 da segunda parte:</b></h1>\n",
        "<h1>&nbsp;&nbsp;&nbsp;Considerando o valor máximo para comida e serviço (comida = 10 e serviço = 10) foi possível chegar ao máximo de gorjeta (gorjeta=25).</h1>"
      ],
      "metadata": {
        "id": "Jkw3qp5I3lLL"
      }
    }
  ]
}